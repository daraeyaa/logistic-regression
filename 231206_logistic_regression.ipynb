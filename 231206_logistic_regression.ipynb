{
  "nbformat": 4,
  "nbformat_minor": 0,
  "metadata": {
    "colab": {
      "provenance": []
    },
    "kernelspec": {
      "name": "python3",
      "display_name": "Python 3"
    },
    "language_info": {
      "name": "python"
    }
  },
  "cells": [
    {
      "cell_type": "markdown",
      "source": [
        "# **Logistic Regression**\n",
        "주제 : 로지스틱 회귀를 이용한 사업체 유형과 일가정 양립의 상관관계 분석 <br>\n",
        "사용 데이터 : 2021년 일가정 양립 실태조사 데이터\n",
        "<br><br>\n",
        "사용 변수\n",
        "- 사업체 유형(업종, 규모, 지역, 소재지, 노조유무 등)\n",
        "- 육아 등 돌봄지원제도 활용가능여부(출산전후휴가, 배우자출산휴가, 임신기근로기간단축제도, 육아휴직제도, 가족돌봄휴가제도)\n",
        "\n"
      ],
      "metadata": {
        "id": "0vTx6mOmGpFI"
      }
    },
    {
      "cell_type": "markdown",
      "source": [
        "# 1. 데이터 불러오기"
      ],
      "metadata": {
        "id": "t091ufAvMTtq"
      }
    },
    {
      "cell_type": "code",
      "execution_count": null,
      "metadata": {
        "id": "zvbMaL9DSt_i"
      },
      "outputs": [],
      "source": [
        "import pandas as pd\n",
        "import seaborn as sns\n",
        "import matplotlib.pyplot as plt"
      ]
    },
    {
      "cell_type": "code",
      "source": [
        "df = pd.read_csv('/content/dataset.csv', encoding='cp949', index_col=0)\n",
        "print(df)"
      ],
      "metadata": {
        "colab": {
          "base_uri": "https://localhost:8080/"
        },
        "id": "MZqjdZzbMq_J",
        "outputId": "61a61898-7137-4954-c3c1-27334ae39d3d"
      },
      "execution_count": null,
      "outputs": [
        {
          "output_type": "stream",
          "name": "stdout",
          "text": [
            "       리스트아이디  info1  info2  info3  a4  b1a12  b4a12  b5a12  b7a12  c1a12  \\\n",
            "아이디                                                                         \n",
            "61232  100003      8      1     16   1    3.0    3.0    2.0    NaN    3.0   \n",
            "62016  100004     15      2      3   1    1.0    NaN    NaN    NaN    NaN   \n",
            "30281  100005      3      5     10   2    1.0    1.0    2.0    1.0    1.0   \n",
            "30582  100006     10      1      1   2    NaN    NaN    NaN    NaN    1.0   \n",
            "61299  100009      2      1      1   1    1.0    1.0    1.0    1.0    1.0   \n",
            "...       ...    ...    ...    ...  ..    ...    ...    ...    ...    ...   \n",
            "31587  504167     12      4     10   2    2.0    1.0    1.0    1.0    1.0   \n",
            "31794  504271     12      5      6   2    1.0    1.0    1.0    1.0    1.0   \n",
            "31791  504290     12      5      1   2    1.0    1.0    1.0    1.0    1.0   \n",
            "31698  504432     12      5      6   2    1.0    1.0    1.0    1.0    1.0   \n",
            "31493  504441      6      5      4   1    1.0    1.0    1.0    1.0    1.0   \n",
            "\n",
            "       c17a12  c20a12  c22a12  \n",
            "아이디                            \n",
            "61232     NaN     NaN     NaN  \n",
            "62016     NaN     NaN     NaN  \n",
            "30281     1.0     1.0     NaN  \n",
            "30582     NaN     NaN     NaN  \n",
            "61299     1.0     1.0     3.0  \n",
            "...       ...     ...     ...  \n",
            "31587     1.0     1.0     1.0  \n",
            "31794     1.0     1.0     1.0  \n",
            "31791     1.0     1.0     1.0  \n",
            "31698     1.0     1.0     1.0  \n",
            "31493     1.0     1.0     1.0  \n",
            "\n",
            "[5070 rows x 13 columns]\n"
          ]
        }
      ]
    },
    {
      "cell_type": "markdown",
      "source": [
        "1: 제도 활용 가능 <BR>\n",
        "0: 제도 활용 불가능"
      ],
      "metadata": {
        "id": "-5C0GiAJDHt_"
      }
    },
    {
      "cell_type": "code",
      "source": [
        "# 값이 2 또는 3인 경우를 0으로 바꾸기\n",
        "columns_to_replace = ['b1a12', 'b4a12', 'b5a12', 'b7a12',\n",
        "                       'c1a12', 'c17a12', 'c20a12', 'c22a12']\n",
        "\n",
        "df[columns_to_replace] = df[columns_to_replace].replace({2: 0, 3: 0})\n",
        "\n",
        "# NULL 값 확인하고 0으로 바꾸기\n",
        "df[columns_to_replace] = df[columns_to_replace].fillna(0)\n",
        "\n",
        "# 결과 확인\n",
        "print(df.head())"
      ],
      "metadata": {
        "colab": {
          "base_uri": "https://localhost:8080/"
        },
        "id": "NpjNjiW5C4uT",
        "outputId": "b970ab18-c90a-49cb-d142-f9fc5beff719"
      },
      "execution_count": null,
      "outputs": [
        {
          "output_type": "stream",
          "name": "stdout",
          "text": [
            "       리스트아이디  info1  info2  info3  a4  b1a12  b4a12  b5a12  b7a12  c1a12  \\\n",
            "아이디                                                                         \n",
            "61232  100003      8      1     16   1    0.0    0.0    0.0    0.0    0.0   \n",
            "62016  100004     15      2      3   1    1.0    0.0    0.0    0.0    0.0   \n",
            "30281  100005      3      5     10   2    1.0    1.0    0.0    1.0    1.0   \n",
            "30582  100006     10      1      1   2    0.0    0.0    0.0    0.0    1.0   \n",
            "61299  100009      2      1      1   1    1.0    1.0    1.0    1.0    1.0   \n",
            "\n",
            "       c17a12  c20a12  c22a12  \n",
            "아이디                            \n",
            "61232     0.0     0.0     0.0  \n",
            "62016     0.0     0.0     0.0  \n",
            "30281     1.0     1.0     0.0  \n",
            "30582     0.0     0.0     0.0  \n",
            "61299     1.0     1.0     0.0  \n"
          ]
        }
      ]
    },
    {
      "cell_type": "markdown",
      "source": [
        "# 2. Select Feature"
      ],
      "metadata": {
        "id": "MhKsVcNbD_cP"
      }
    },
    {
      "cell_type": "code",
      "source": [
        "#cols = ['info1', 'info2', 'info3', 'a4', 'b4a12']\n",
        "cols = ['info2', 'a4', 'c1a12']"
      ],
      "metadata": {
        "id": "99gs7GaJDSau"
      },
      "execution_count": null,
      "outputs": []
    },
    {
      "cell_type": "markdown",
      "source": [
        "# 3. Train Model with PyTorch"
      ],
      "metadata": {
        "id": "qD3kIiQoEL88"
      }
    },
    {
      "cell_type": "code",
      "source": [
        "import torch\n",
        "import torch.nn as nn\n",
        "import torch.nn.functional as F\n",
        "import torch.optim as optim"
      ],
      "metadata": {
        "id": "HdsYIcSmEMnk"
      },
      "execution_count": null,
      "outputs": []
    },
    {
      "cell_type": "code",
      "source": [
        "data = torch.from_numpy(df[cols].values).float()\n",
        "\n",
        "data.shape"
      ],
      "metadata": {
        "colab": {
          "base_uri": "https://localhost:8080/"
        },
        "id": "ZZoPiq1tETQc",
        "outputId": "3b3495cc-ca11-4846-e7f9-f430a2ce552b"
      },
      "execution_count": null,
      "outputs": [
        {
          "output_type": "execute_result",
          "data": {
            "text/plain": [
              "torch.Size([5070, 3])"
            ]
          },
          "metadata": {},
          "execution_count": 230
        }
      ]
    },
    {
      "cell_type": "code",
      "source": [
        "# Split x and y.\n",
        "x = data[:, :-1]\n",
        "y = data[:, -1:]\n",
        "\n",
        "print(x.shape, y.shape)"
      ],
      "metadata": {
        "colab": {
          "base_uri": "https://localhost:8080/"
        },
        "id": "YY08iEAiEfPJ",
        "outputId": "37862d59-7261-4259-a543-6eada906a1ae"
      },
      "execution_count": null,
      "outputs": [
        {
          "output_type": "stream",
          "name": "stdout",
          "text": [
            "torch.Size([5070, 2]) torch.Size([5070, 1])\n"
          ]
        }
      ]
    },
    {
      "cell_type": "code",
      "source": [
        "# Define configurations.\n",
        "n_epochs = 200000\n",
        "learning_rate = 1e-2\n",
        "print_interval = 10000"
      ],
      "metadata": {
        "id": "kUXLSoE5EfFi"
      },
      "execution_count": null,
      "outputs": []
    },
    {
      "cell_type": "code",
      "source": [
        "# Define custom model.\n",
        "class MyModel(nn.Module):\n",
        "    def __init__(self, input_dim, output_dim):\n",
        "        self.input_dim = input_dim\n",
        "        self.output_dim = output_dim\n",
        "\n",
        "        super().__init__()\n",
        "\n",
        "        self.linear = nn.Linear(input_dim, output_dim)\n",
        "        self.act = nn.Sigmoid()\n",
        "\n",
        "    def forward(self, x):\n",
        "        # |x| = (batch_size, input_dim)\n",
        "        y = self.act(self.linear(x))\n",
        "        # |y| = (batch_size, output_dim)\n",
        "\n",
        "        return y"
      ],
      "metadata": {
        "id": "walsoB2tEkyc"
      },
      "execution_count": null,
      "outputs": []
    },
    {
      "cell_type": "code",
      "source": [
        "model = MyModel(input_dim=x.size(-1),\n",
        "                output_dim=y.size(-1))\n",
        "crit = nn.BCELoss()  # Define BCELoss instead of MSELoss.\n",
        "\n",
        "\n",
        "# Choose the optimizer (AdaGrad, RMSProp, or ADAM)\n",
        "#optimizer = optim.Adagrad(model.parameters(), lr=learning_rate)\n",
        "#optimizer = optim.RMSprop(model.parameters(), lr=learning_rate)\n",
        "#optimizer = optim.SGD(model.parameters(), lr=learning_rate)\n",
        "optimizer = optim.Adam(model.parameters(), lr=learning_rate)"
      ],
      "metadata": {
        "id": "RiL3OLmwEoJL"
      },
      "execution_count": null,
      "outputs": []
    },
    {
      "cell_type": "code",
      "source": [
        "for i in range(n_epochs):\n",
        "    y_hat = model(x)\n",
        "    loss = crit(y_hat, y)\n",
        "\n",
        "    optimizer.zero_grad()\n",
        "    loss.backward()\n",
        "\n",
        "    optimizer.step()\n",
        "\n",
        "    if (i + 1) % print_interval == 0:\n",
        "        print('Epoch %d: loss=%.4e' % (i + 1, loss))"
      ],
      "metadata": {
        "colab": {
          "base_uri": "https://localhost:8080/"
        },
        "id": "uyZsBdGpEuOP",
        "outputId": "f5e0857c-1303-4193-c82f-478790f377f1"
      },
      "execution_count": null,
      "outputs": [
        {
          "output_type": "stream",
          "name": "stdout",
          "text": [
            "Epoch 10000: loss=5.8531e-01\n",
            "Epoch 20000: loss=5.8531e-01\n",
            "Epoch 30000: loss=5.8531e-01\n",
            "Epoch 40000: loss=5.8531e-01\n",
            "Epoch 50000: loss=5.8531e-01\n",
            "Epoch 60000: loss=5.8531e-01\n",
            "Epoch 70000: loss=5.8531e-01\n",
            "Epoch 80000: loss=5.8531e-01\n",
            "Epoch 90000: loss=5.8531e-01\n",
            "Epoch 100000: loss=5.8531e-01\n",
            "Epoch 110000: loss=5.8531e-01\n",
            "Epoch 120000: loss=5.8531e-01\n",
            "Epoch 130000: loss=5.8531e-01\n",
            "Epoch 140000: loss=5.8531e-01\n",
            "Epoch 150000: loss=5.8531e-01\n",
            "Epoch 160000: loss=5.8531e-01\n",
            "Epoch 170000: loss=5.8531e-01\n",
            "Epoch 180000: loss=5.8531e-01\n",
            "Epoch 190000: loss=5.8531e-01\n",
            "Epoch 200000: loss=5.8531e-01\n"
          ]
        }
      ]
    },
    {
      "cell_type": "markdown",
      "source": [
        "# 4. 결과 확인"
      ],
      "metadata": {
        "id": "cli1OwmlEz0Q"
      }
    },
    {
      "cell_type": "code",
      "source": [
        "correct_cnt = (y == (y_hat > .5)).sum()\n",
        "total_cnt = float(y.size(0))\n",
        "\n",
        "print('Accuracy: %.4f' % (correct_cnt / total_cnt))\n"
      ],
      "metadata": {
        "colab": {
          "base_uri": "https://localhost:8080/"
        },
        "id": "KeQwCiOsE3er",
        "outputId": "f6074cea-84a6-48db-9a60-60d2f0a67a7a"
      },
      "execution_count": null,
      "outputs": [
        {
          "output_type": "stream",
          "name": "stdout",
          "text": [
            "Accuracy: 0.6789\n"
          ]
        }
      ]
    },
    {
      "cell_type": "code",
      "source": [
        "df_result = pd.DataFrame(torch.cat([y, y_hat], dim=1).detach().numpy(),\n",
        "                          columns=[\"y\", \"y_hat\"])\n",
        "\n",
        "sns.histplot(df_result, x='y_hat', hue='y', bins=50, stat='probability')\n",
        "plt.show()"
      ],
      "metadata": {
        "colab": {
          "base_uri": "https://localhost:8080/",
          "height": 452
        },
        "id": "tXWoExgQE_o-",
        "outputId": "1983aea8-5caf-4d4b-f1c0-231e04996833"
      },
      "execution_count": null,
      "outputs": [
        {
          "output_type": "display_data",
          "data": {
            "text/plain": [
              "<Figure size 640x480 with 1 Axes>"
            ],
            "image/png": "[encoded data removed]"
          },
          "metadata": {}
        }
      ]
    }
  ]
}